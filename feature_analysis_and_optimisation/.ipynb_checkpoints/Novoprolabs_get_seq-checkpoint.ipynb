{
 "cells": [
  {
   "cell_type": "markdown",
   "metadata": {},
   "source": [
    "# Request Novoprolabs for sequence optimisation"
   ]
  },
  {
   "cell_type": "code",
   "execution_count": 1,
   "metadata": {},
   "outputs": [],
   "source": [
    "from time import sleep\n",
    "import json\n",
    "from urllib.parse import urlencode\n",
    "from urllib.request import Request, urlopen\n",
    "\n",
    "\n",
    "class NovoPro:\n",
    "    '''Get sequences from them.\n",
    "    '''\n",
    "    \n",
    "    def __init__(self, seq):\n",
    "        self.seq = seq\n",
    "        self.url = 'https://www.novoprolabs.com/plus/ppc.php'\n",
    "        self.post_obj = None\n",
    "        self.json_object = None\n",
    "        self.response_dict = None\n",
    "        \n",
    "    def make_req_obj(self):\n",
    "        '''prepare request object for POST.\n",
    "        '''\n",
    "        post_field = {}\n",
    "        post_field['sr'] = 'co'\n",
    "        post_field['ez'] = ''\n",
    "        post_field['sq'] = self.seq\n",
    "        post_field['og'] = 'E.coli'\n",
    "        post_field['st'] = 'DNA'\n",
    "        \n",
    "        self.post_obj = post_field\n",
    "    \n",
    "    def make_request(self):\n",
    "        if self.post_obj is None:\n",
    "            self.make_req_obj()\n",
    "        request = Request(self.url, urlencode(self.post_obj).encode())\n",
    "        self.json_object = urlopen(request).read().decode()\n",
    "    \n",
    "    def NovoProOptimised(self):\n",
    "        if self.json_object is None:\n",
    "            self.make_request()\n",
    "        self.response_dict = json.loads(self.json_object)\n",
    "        return self.response_dict[1][0]\n",
    "            "
   ]
  },
  {
   "cell_type": "code",
   "execution_count": 2,
   "metadata": {},
   "outputs": [],
   "source": [
    "import pandas as pd\n",
    "import numpy as np\n",
    "def progress(iteration, total, message=None):\n",
    "    '''Simple progressbar\n",
    "    '''\n",
    "    if message is None:\n",
    "        message = ''\n",
    "    bars_string = int(float(iteration) / float(total) * 50.)\n",
    "    print(\"\\r|%-50s| %d%% (%s/%s) %s \"% ('█'*bars_string+ \"░\" * \\\n",
    "                                     (50 - bars_string), float(iteration)/\\\n",
    "                                     float(total) * 100, iteration, total, \\\n",
    "                                     message), end='\\r', flush=True)\n",
    "\n",
    "    if iteration == total:\n",
    "        print('\\nCompleted!')\n",
    "        \n",
    "\n",
    "failed_seq = pd.read_csv('failed_all.csv')"
   ]
  },
  {
   "cell_type": "code",
   "execution_count": 3,
   "metadata": {},
   "outputs": [],
   "source": [
    "failed_seq['NovoProRequest'] = failed_seq['Sequence'].apply(NovoPro)"
   ]
  },
  {
   "cell_type": "code",
   "execution_count": 37,
   "metadata": {},
   "outputs": [],
   "source": [
    "#failed_seq['NovoProOprimised'] = failed_seq['NovoProRequest'].apply(lambda x: x.NovoProOptimised())"
   ]
  },
  {
   "cell_type": "code",
   "execution_count": 4,
   "metadata": {
    "scrolled": true
   },
   "outputs": [
    {
     "name": "stdout",
     "output_type": "stream",
     "text": [
      "Server returned incomplete message. HTTP Error 500: Internal Server Error\n",
      "Server returned incomplete message. HTTP Error 500: Internal Server Error\n",
      "Server returned incomplete message. HTTP Error 500: Internal Server Error\n",
      "Server returned incomplete message. HTTP Error 500: Internal Server Error\n",
      "Server returned incomplete message. HTTP Error 500: Internal Server Error\n",
      "Server returned incomplete message. HTTP Error 500: Internal Server Error\n",
      "Server returned incomplete message. HTTP Error 500: Internal Server Error\n",
      "Server returned incomplete message. HTTP Error 500: Internal Server Error\n",
      "Server returned incomplete message. HTTP Error 500: Internal Server Error\n",
      "Server returned incomplete message. HTTP Error 500: Internal Server Error\n",
      "Server returned incomplete message. HTTP Error 500: Internal Server Error\n",
      "Server returned incomplete message. HTTP Error 500: Internal Server Error\n",
      "Server returned incomplete message. HTTP Error 500: Internal Server Error\n",
      "Server returned incomplete message. HTTP Error 500: Internal Server Error\n",
      "Server returned incomplete message. HTTP Error 500: Internal Server Error\n",
      "Server returned incomplete message. HTTP Error 500: Internal Server Error\n",
      "Server returned incomplete message. HTTP Error 500: Internal Server Error\n",
      "Server returned incomplete message. HTTP Error 500: Internal Server Error\n",
      "Server returned incomplete message. HTTP Error 500: Internal Server Error\n",
      "Server returned incomplete message. HTTP Error 500: Internal Server Error\n",
      "Server returned incomplete message. HTTP Error 500: Internal Server Error\n",
      "Server returned incomplete message. HTTP Error 500: Internal Server Error\n",
      "Server returned incomplete message. HTTP Error 500: Internal Server Error\n",
      "Server returned incomplete message. HTTP Error 500: Internal Server Error\n",
      "Server returned incomplete message. HTTP Error 500: Internal Server Error\n",
      "Server returned incomplete message. HTTP Error 500: Internal Server Error\n",
      "Server returned incomplete message. HTTP Error 500: Internal Server Error\n",
      "Server returned incomplete message. HTTP Error 500: Internal Server Error\n",
      "Server returned incomplete message. HTTP Error 500: Internal Server Error\n",
      "Server returned incomplete message. HTTP Error 500: Internal Server Error\n",
      "Server returned incomplete message. HTTP Error 500: Internal Server Error\n",
      "Server returned incomplete message. HTTP Error 500: Internal Server Error\n",
      "Server returned incomplete message. HTTP Error 500: Internal Server Error\n",
      "Server returned incomplete message. HTTP Error 500: Internal Server Error\n",
      "Server returned incomplete message. HTTP Error 500: Internal Server Error\n",
      "Server returned incomplete message. HTTP Error 500: Internal Server Error\n",
      "Server returned incomplete message. HTTP Error 500: Internal Server Error\n",
      "Server returned incomplete message. HTTP Error 500: Internal Server Error\n",
      "Server returned incomplete message. HTTP Error 500: Internal Server Error\n",
      "Server returned incomplete message. HTTP Error 500: Internal Server Error\n",
      "Server returned incomplete message. HTTP Error 500: Internal Server Error\n",
      "Server returned incomplete message. HTTP Error 500: Internal Server Error\n",
      "Server returned incomplete message. HTTP Error 500: Internal Server Error\n",
      "Server returned incomplete message. HTTP Error 500: Internal Server Error\n",
      "Server returned incomplete message. HTTP Error 500: Internal Server Error\n",
      "Server returned incomplete message. HTTP Error 500: Internal Server Error\n",
      "Server returned incomplete message. HTTP Error 500: Internal Server Error\n",
      "Server returned incomplete message. HTTP Error 500: Internal Server Error\n",
      "Server returned incomplete message. HTTP Error 500: Internal Server Error\n",
      "Server returned incomplete message. HTTP Error 500: Internal Server Error\n",
      "Server returned incomplete message. HTTP Error 500: Internal Server Error\n",
      "Server returned incomplete message. HTTP Error 500: Internal Server Error\n",
      "Server returned incomplete message. HTTP Error 500: Internal Server Error\n",
      "Server returned incomplete message. HTTP Error 500: Internal Server Error\n",
      "Server returned incomplete message. HTTP Error 500: Internal Server Error\n",
      "Server returned incomplete message. HTTP Error 500: Internal Server Error\n",
      "Server returned incomplete message. HTTP Error 500: Internal Server Error\n",
      "Server returned incomplete message. HTTP Error 500: Internal Server Error\n",
      "Server returned incomplete message. HTTP Error 500: Internal Server Error\n",
      "Server returned incomplete message. HTTP Error 500: Internal Server Error\n",
      "Server returned incomplete message. HTTP Error 500: Internal Server Error\n",
      "Server returned incomplete message. HTTP Error 500: Internal Server Error\n",
      "Server returned incomplete message. HTTP Error 500: Internal Server Error\n",
      "Server returned incomplete message. HTTP Error 500: Internal Server Error\n",
      "Server returned incomplete message. HTTP Error 500: Internal Server Error\n",
      "Server returned incomplete message. HTTP Error 500: Internal Server Error\n",
      "Server returned incomplete message. HTTP Error 500: Internal Server Error\n",
      "Server returned incomplete message. HTTP Error 500: Internal Server Error\n",
      "Server returned incomplete message. HTTP Error 500: Internal Server Error\n",
      "Server returned incomplete message. HTTP Error 500: Internal Server Error\n",
      "Server returned incomplete message. HTTP Error 500: Internal Server Error\n",
      "Server returned incomplete message. HTTP Error 500: Internal Server Error\n",
      "Server returned incomplete message. HTTP Error 500: Internal Server Error\n",
      "Server returned incomplete message. HTTP Error 500: Internal Server Error\n",
      "Server returned incomplete message. HTTP Error 500: Internal Server Error\n",
      "Server returned incomplete message. HTTP Error 500: Internal Server Error\n",
      "Server returned incomplete message. HTTP Error 500: Internal Server Error\n",
      "|█████████████████████████████████████████████████░| 99% (2649/2650)  \r"
     ]
    }
   ],
   "source": [
    "opt_seq = []\n",
    "\n",
    "for ind, val in enumerate(failed_seq['NovoProRequest']):\n",
    "    try:\n",
    "        opt_seq.append(val.NovoProOptimised())\n",
    "    except Exception as exp:\n",
    "        print(\"Server returned incomplete message.\" , str(exp))\n",
    "        #print(\"Sleeping for 1 mins.\")\n",
    "        #sleep(60)\n",
    "        #print(\"Retrying...\")\n",
    "        opt_seq.append(np.nan)\n",
    "    progress(ind, len(failed_seq))"
   ]
  },
  {
   "cell_type": "code",
   "execution_count": 28,
   "metadata": {},
   "outputs": [],
   "source": [
    "failed_seq['NovoProOptimsed'] = opt_seq\n",
    "failed_seq.to_csv('NovoOpt_sequences_only.csv', index=None)\n"
   ]
  },
  {
   "cell_type": "code",
   "execution_count": null,
   "metadata": {},
   "outputs": [],
   "source": []
  },
  {
   "cell_type": "code",
   "execution_count": null,
   "metadata": {},
   "outputs": [],
   "source": []
  },
  {
   "cell_type": "code",
   "execution_count": null,
   "metadata": {},
   "outputs": [],
   "source": []
  },
  {
   "cell_type": "code",
   "execution_count": null,
   "metadata": {},
   "outputs": [],
   "source": []
  },
  {
   "cell_type": "code",
   "execution_count": null,
   "metadata": {},
   "outputs": [],
   "source": []
  },
  {
   "cell_type": "markdown",
   "metadata": {},
   "source": [
    "# Accessibility"
   ]
  },
  {
   "cell_type": "code",
   "execution_count": 15,
   "metadata": {},
   "outputs": [],
   "source": [
    "#Accessibility functions\n",
    "import os\n",
    "from multiprocessing import Pool, cpu_count\n",
    "from subprocess import run, PIPE, DEVNULL\n",
    "import secrets\n",
    "import string\n",
    "import tempfile\n",
    "\n",
    "\n",
    "def accession_gen():\n",
    "    '''Random accession numbers\n",
    "    '''\n",
    "    rand_string = ''.join(secrets.choice(string.ascii_uppercase + \\\n",
    "                                        string.digits) for _ in range(10))\n",
    "    accession = '>' + rand_string + '\\n'\n",
    "    return accession, rand_string\n",
    "\n",
    "\n",
    "def access_calc(seq, utr=None):\n",
    "    '''Sequence accessibility\n",
    "    '''\n",
    "    tmp = os.path.join(tempfile.gettempdir(), 'plfold')\n",
    "    \n",
    "    nt_pos = 24 #the length to check accessibility values (30nt upstream)\n",
    "    subseg_length = 48\n",
    "    \n",
    "    \n",
    "    try:\n",
    "        os.makedirs(tmp)\n",
    "    except FileExistsError:\n",
    "        pass\n",
    "    if utr is None:\n",
    "        utr = 'GGGGAATTGTGAGCGGATAACAATTCCCCTCTAGAAATAATTTTGTTTAACTTTAAGAAGGAGATATACAT'\n",
    "    else:\n",
    "        utr = utr.upper()\n",
    "  \n",
    "    sequence = utr + seq\n",
    "    seq_accession, rand_string = accession_gen()\n",
    "    input_seq = seq_accession + sequence\n",
    "    run(['RNAplfold', '-W 210', '-u 50', '-O'], \\\n",
    "               stdout=PIPE, stderr=DEVNULL, input=input_seq, cwd=tmp, \\\n",
    "                encoding='utf-8')\n",
    "    out1 = '/' + rand_string + '_openen'\n",
    "    out2 = '/' + rand_string + '_dp.ps'\n",
    "    #open_en = pd.read_csv(tmp+out1, sep='\\t', skiprows=2, header=None)\\\n",
    "    #            .iloc[94][48] #for 0(ATG) to 13  nts to the left.\n",
    "\n",
    "    open_en = pd.read_csv(tmp+out1, sep='\\t', skiprows=2, header=None)\\\n",
    "                [subseg_length][len(utr) + nt_pos - 1] #-23 to 24 : row = len(utr)+24-1(because python starts from 0)\n",
    "                                        #: column = 23+24+1 (region from 24nt to -23nt is free, \\\n",
    "                                            #for plfold, col# = nt to col#-1 free)\n",
    "    os.remove(tmp+out1)\n",
    "    os.remove(tmp+out2)\n",
    "    return open_en\n",
    "\n",
    "\n",
    "\n",
    "def parallelize_df(df, func):\n",
    "    '''parallelizes operations on a dataframe by splitting it to chunks\n",
    "    '''\n",
    "    partitions = cpu_count()\n",
    "    df_split = np.array_split(df, partitions)\n",
    "    pool = Pool(partitions)\n",
    "    results = pd.concat(pool.map(func, df_split))\n",
    "    pool.close()\n",
    "    pool.join()\n",
    "    return results\n",
    "\n",
    "\n",
    "\n",
    "def df_features(df, utr=None):\n",
    "    df['Accessibility'] = df['Sequence'].apply(lambda x: access_calc(x, utr))\n",
    "    df['Accessibility_N'] = df['NovoProOptimsed'].apply(lambda x: access_calc(x, utr) )\n",
    "    return df\n",
    "\n"
   ]
  },
  {
   "cell_type": "code",
   "execution_count": 14,
   "metadata": {},
   "outputs": [],
   "source": [
    "#parallelize_df(failed_seq, df_features)\n",
    "failed_seq.dropna(inplace=True)\n"
   ]
  },
  {
   "cell_type": "code",
   "execution_count": 16,
   "metadata": {},
   "outputs": [],
   "source": [
    "res_df = parallelize_df(failed_seq, df_features)"
   ]
  },
  {
   "cell_type": "code",
   "execution_count": 33,
   "metadata": {},
   "outputs": [
    {
     "data": {
      "text/plain": [
       "<matplotlib.axes._subplots.AxesSubplot at 0x7f7ad8bd1b70>"
      ]
     },
     "execution_count": 33,
     "metadata": {},
     "output_type": "execute_result"
    },
    {
     "data": {
      "image/png": "[encoded data removed]",
      "text/plain": [
       "<Figure size 432x288 with 1 Axes>"
      ]
     },
     "metadata": {},
     "output_type": "display_data"
    }
   ],
   "source": [
    "import seaborn as sns\n",
    "sns.set_style(\"whitegrid\")\n",
    "sns.kdeplot(res_df['Accessibility'], label='failed')\n",
    "sns.kdeplot(res_df['Accessibility_N'], label='comm')"
   ]
  },
  {
   "cell_type": "code",
   "execution_count": 24,
   "metadata": {},
   "outputs": [],
   "source": [
    "res_df.to_csv('Novo_optimised.csv', index=None)"
   ]
  },
  {
   "cell_type": "code",
   "execution_count": 30,
   "metadata": {},
   "outputs": [
    {
     "data": {
      "text/plain": [
       "(2573, 7)"
      ]
     },
     "execution_count": 30,
     "metadata": {},
     "output_type": "execute_result"
    }
   ],
   "source": [
    "res_df.shape"
   ]
  },
  {
   "cell_type": "code",
   "execution_count": null,
   "metadata": {},
   "outputs": [],
   "source": []
  }
 ],
 "metadata": {
  "kernelspec": {
   "display_name": "Python 3",
   "language": "python",
   "name": "python3"
  },
  "language_info": {
   "codemirror_mode": {
    "name": "ipython",
    "version": 3
   },
   "file_extension": ".py",
   "mimetype": "text/x-python",
   "name": "python",
   "nbconvert_exporter": "python",
   "pygments_lexer": "ipython3",
   "version": "3.6.8"
  }
 },
 "nbformat": 4,
 "nbformat_minor": 2
}
