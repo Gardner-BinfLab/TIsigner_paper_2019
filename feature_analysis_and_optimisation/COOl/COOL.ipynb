{
 "cells": [
  {
   "cell_type": "markdown",
   "metadata": {},
   "source": [
    "# Make input files from failed sequence"
   ]
  },
  {
   "cell_type": "code",
   "execution_count": 36,
   "metadata": {},
   "outputs": [
    {
     "data": {
      "text/html": [
       "<div>\n",
       "<style scoped>\n",
       "    .dataframe tbody tr th:only-of-type {\n",
       "        vertical-align: middle;\n",
       "    }\n",
       "\n",
       "    .dataframe tbody tr th {\n",
       "        vertical-align: top;\n",
       "    }\n",
       "\n",
       "    .dataframe thead th {\n",
       "        text-align: right;\n",
       "    }\n",
       "</style>\n",
       "<table border=\"1\" class=\"dataframe\">\n",
       "  <thead>\n",
       "    <tr style=\"text-align: right;\">\n",
       "      <th></th>\n",
       "      <th>Accession</th>\n",
       "      <th>Sequence</th>\n",
       "      <th>Class</th>\n",
       "    </tr>\n",
       "  </thead>\n",
       "  <tbody>\n",
       "    <tr>\n",
       "      <th>0</th>\n",
       "      <td>BbCD00385184</td>\n",
       "      <td>ATGACCCTGAAAACCATGACGCTGGCTTTTGCCGTAACCGGCCTTG...</td>\n",
       "      <td>0.0</td>\n",
       "    </tr>\n",
       "    <tr>\n",
       "      <th>1</th>\n",
       "      <td>CaCD00344362</td>\n",
       "      <td>ATGCTTTTTATTATAAAATACTATGAACCTAAGAACCTATATGAGC...</td>\n",
       "      <td>0.0</td>\n",
       "    </tr>\n",
       "    <tr>\n",
       "      <th>2</th>\n",
       "      <td>DhCD00338941</td>\n",
       "      <td>ATGCCCCAGGAGGGGCTGAGGTTTGTAGTGCAGCACCATCTGGCCC...</td>\n",
       "      <td>0.0</td>\n",
       "    </tr>\n",
       "    <tr>\n",
       "      <th>3</th>\n",
       "      <td>EcCD00331370</td>\n",
       "      <td>ATGCCGGGCAACAGCCCGCATTATGGGCGTTGGCCTCAACACGATT...</td>\n",
       "      <td>0.0</td>\n",
       "    </tr>\n",
       "    <tr>\n",
       "      <th>4</th>\n",
       "      <td>LbCD00598846</td>\n",
       "      <td>ATGTTAGGACGTTCTGATGTCGGCCGAACCGACACCTTGATGGTTG...</td>\n",
       "      <td>0.0</td>\n",
       "    </tr>\n",
       "  </tbody>\n",
       "</table>\n",
       "</div>"
      ],
      "text/plain": [
       "      Accession                                           Sequence  Class\n",
       "0  BbCD00385184  ATGACCCTGAAAACCATGACGCTGGCTTTTGCCGTAACCGGCCTTG...    0.0\n",
       "1  CaCD00344362  ATGCTTTTTATTATAAAATACTATGAACCTAAGAACCTATATGAGC...    0.0\n",
       "2  DhCD00338941  ATGCCCCAGGAGGGGCTGAGGTTTGTAGTGCAGCACCATCTGGCCC...    0.0\n",
       "3  EcCD00331370  ATGCCGGGCAACAGCCCGCATTATGGGCGTTGGCCTCAACACGATT...    0.0\n",
       "4  LbCD00598846  ATGTTAGGACGTTCTGATGTCGGCCGAACCGACACCTTGATGGTTG...    0.0"
      ]
     },
     "execution_count": 36,
     "metadata": {},
     "output_type": "execute_result"
    }
   ],
   "source": [
    "failed = pd.read_csv('failed_all.csv')\n",
    "failed.head()"
   ]
  },
  {
   "cell_type": "code",
   "execution_count": 93,
   "metadata": {},
   "outputs": [
    {
     "data": {
      "text/plain": [
       "'ATGACCCTGAAAACCATGACGCTGGCTTTTGCCGTAACCGGCCTTGGCGTGTTGGCGGGATGCTCATCGCCCTCGGTGGTACAGCAGCGCGATGGCAGTCAGGTCGTGACGCCCGACGAGCCGAAGTACAACGAGGACACCGGCTTCTACGAGTACGAGAAGGACGGCCACAAGGTCCAGATGAACAAGGACGACGTCAAGACGATCGAGGAGGTCAAGCTCGAGCACCACCACCACCACCACTGA'"
      ]
     },
     "execution_count": 93,
     "metadata": {},
     "output_type": "execute_result"
    }
   ],
   "source": [
    "failed['Sequence'][0]"
   ]
  },
  {
   "cell_type": "code",
   "execution_count": 37,
   "metadata": {},
   "outputs": [],
   "source": [
    "def translate(seq):\n",
    "    length = (len(seq)- len(seq)%3)\n",
    "    split_func = lambda seq, n: [seq[i:i+n] for\\\n",
    "                                    i in range(0, length, n)]\n",
    "    codons = split_func(seq, 3)\n",
    "    aa = ''\n",
    "    for c in codons:\n",
    "        aa+=data.CODON_TO_AA[c]\n",
    "    return aa"
   ]
  },
  {
   "cell_type": "code",
   "execution_count": 39,
   "metadata": {},
   "outputs": [
    {
     "data": {
      "text/html": [
       "<div>\n",
       "<style scoped>\n",
       "    .dataframe tbody tr th:only-of-type {\n",
       "        vertical-align: middle;\n",
       "    }\n",
       "\n",
       "    .dataframe tbody tr th {\n",
       "        vertical-align: top;\n",
       "    }\n",
       "\n",
       "    .dataframe thead th {\n",
       "        text-align: right;\n",
       "    }\n",
       "</style>\n",
       "<table border=\"1\" class=\"dataframe\">\n",
       "  <thead>\n",
       "    <tr style=\"text-align: right;\">\n",
       "      <th></th>\n",
       "      <th>Accession</th>\n",
       "      <th>Sequence</th>\n",
       "      <th>Class</th>\n",
       "      <th>AA</th>\n",
       "    </tr>\n",
       "  </thead>\n",
       "  <tbody>\n",
       "    <tr>\n",
       "      <th>0</th>\n",
       "      <td>BbCD00385184</td>\n",
       "      <td>ATGACCCTGAAAACCATGACGCTGGCTTTTGCCGTAACCGGCCTTG...</td>\n",
       "      <td>0.0</td>\n",
       "      <td>MTLKTMTLAFAVTGLGVLAGCSSPSVVQQRDGSQVVTPDEPKYNED...</td>\n",
       "    </tr>\n",
       "    <tr>\n",
       "      <th>1</th>\n",
       "      <td>CaCD00344362</td>\n",
       "      <td>ATGCTTTTTATTATAAAATACTATGAACCTAAGAACCTATATGAGC...</td>\n",
       "      <td>0.0</td>\n",
       "      <td>MLFIIKYYEPKNLYEHILFILKHLCRSKSMILNPQKLSVDFGNGIT...</td>\n",
       "    </tr>\n",
       "    <tr>\n",
       "      <th>2</th>\n",
       "      <td>DhCD00338941</td>\n",
       "      <td>ATGCCCCAGGAGGGGCTGAGGTTTGTAGTGCAGCACCATCTGGCCC...</td>\n",
       "      <td>0.0</td>\n",
       "      <td>MPQEGLRFVVQHHLARRDHYDLRLEWDGAMLSWAVPKGPSYNTRDK...</td>\n",
       "    </tr>\n",
       "    <tr>\n",
       "      <th>3</th>\n",
       "      <td>EcCD00331370</td>\n",
       "      <td>ATGCCGGGCAACAGCCCGCATTATGGGCGTTGGCCTCAACACGATT...</td>\n",
       "      <td>0.0</td>\n",
       "      <td>MPGNSPHYGRWPQHDFTSLKKLRPQSVTSRIQPGSDVIVCAEMDEQ...</td>\n",
       "    </tr>\n",
       "    <tr>\n",
       "      <th>4</th>\n",
       "      <td>LbCD00598846</td>\n",
       "      <td>ATGTTAGGACGTTCTGATGTCGGCCGAACCGACACCTTGATGGTTG...</td>\n",
       "      <td>0.0</td>\n",
       "      <td>MLGRSDVGRTDTLMVATINPTKETAYLTSIPRDTRVTVGSGVNASV...</td>\n",
       "    </tr>\n",
       "  </tbody>\n",
       "</table>\n",
       "</div>"
      ],
      "text/plain": [
       "      Accession                                           Sequence  Class  \\\n",
       "0  BbCD00385184  ATGACCCTGAAAACCATGACGCTGGCTTTTGCCGTAACCGGCCTTG...    0.0   \n",
       "1  CaCD00344362  ATGCTTTTTATTATAAAATACTATGAACCTAAGAACCTATATGAGC...    0.0   \n",
       "2  DhCD00338941  ATGCCCCAGGAGGGGCTGAGGTTTGTAGTGCAGCACCATCTGGCCC...    0.0   \n",
       "3  EcCD00331370  ATGCCGGGCAACAGCCCGCATTATGGGCGTTGGCCTCAACACGATT...    0.0   \n",
       "4  LbCD00598846  ATGTTAGGACGTTCTGATGTCGGCCGAACCGACACCTTGATGGTTG...    0.0   \n",
       "\n",
       "                                                  AA  \n",
       "0  MTLKTMTLAFAVTGLGVLAGCSSPSVVQQRDGSQVVTPDEPKYNED...  \n",
       "1  MLFIIKYYEPKNLYEHILFILKHLCRSKSMILNPQKLSVDFGNGIT...  \n",
       "2  MPQEGLRFVVQHHLARRDHYDLRLEWDGAMLSWAVPKGPSYNTRDK...  \n",
       "3  MPGNSPHYGRWPQHDFTSLKKLRPQSVTSRIQPGSDVIVCAEMDEQ...  \n",
       "4  MLGRSDVGRTDTLMVATINPTKETAYLTSIPRDTRVTVGSGVNASV...  "
      ]
     },
     "execution_count": 39,
     "metadata": {},
     "output_type": "execute_result"
    }
   ],
   "source": [
    "failed['AA'] = failed['Sequence'].apply(translate)\n",
    "failed.head()"
   ]
  },
  {
   "cell_type": "code",
   "execution_count": 56,
   "metadata": {},
   "outputs": [],
   "source": [
    "for index, val in enumerate(failed['AA']):\n",
    "    encryptID = ['aaSeq', 'flagHash', 'gcTarget', 'exclSeqList', 'repeatNum',\n",
    "       'allrepeatNum', 'c2aa', 'aa2c', 'cPair2aaPair', 'cCountRef',\n",
    "       'aaCountRef', 'cPairCountRef', 'aaPairCountRef', 'GArunParam',\n",
    "       'randSeed']\n",
    "    XXXXXXXX = [val,'IC:1;CC:1;HiddenStop:1;CAI:1;ExclusionSequence:1;GC:1;Repeat:1;allRepeat:1;',\\\n",
    "               41,'YGAUCC,AAGCUU,GUCGAC,GAAUUC','5:2;','8:2;',c2aa,aa2c,cPair2aaPair,cCountRef,\\\n",
    "               aaCountRef,cPairCountRef,aaPairCountRef,'0:0:0;',12345678]\n",
    "    in_df = pd.DataFrame({'encryptID':encryptID, 'XXXXXXXX':XXXXXXXX})\n",
    "    fname = 'inputs/'+str(index)+'_param'\n",
    "    in_df.to_csv(fname, index=None, sep='\\t')"
   ]
  },
  {
   "cell_type": "code",
   "execution_count": null,
   "metadata": {},
   "outputs": [],
   "source": []
  },
  {
   "cell_type": "code",
   "execution_count": 67,
   "metadata": {},
   "outputs": [],
   "source": [
    "#change dir to your location\n",
    "\n",
    "\n",
    "for i in range(len(failed)):\n",
    "    \n",
    "    run(['/home/bikash/Documents/pub/COOl/inputs/co_ubuntu.exe',str(i)],\n",
    "    stdout=PIPE, cwd = '/home/bikash/Documents/pub/COOl/inputs/')"
   ]
  },
  {
   "cell_type": "code",
   "execution_count": 81,
   "metadata": {},
   "outputs": [],
   "source": [
    "def cool(i):\n",
    "    run(['/home/bikash/Documents/pub/COOl/inputs/co_ubuntu.exe',str(i)],\n",
    "    stdout=PIPE, cwd = '/home/bikash/Documents/pub/COOl/inputs/')\n",
    "    \n",
    "def read_results(i):\n",
    "    #extract result with maximum codon cost fitness\n",
    "    fname = '/home/bikash/Documents/pub/COOl/inputs/'+str(i)+'_results'\n",
    "    res = pd.read_csv(fname, skiprows=5, sep='\\t')\n",
    "    res.sort_values(['CC'], ascending=False, inplace=True)\n",
    "    res.reset_index(inplace=True)\n",
    "    return res[\"Sequence\"][0]\n",
    "    "
   ]
  },
  {
   "cell_type": "code",
   "execution_count": 85,
   "metadata": {},
   "outputs": [],
   "source": [
    "\n",
    "from multiprocessing import Pool, cpu_count\n",
    "pools = Pool(cpu_count()-1)\n",
    "pool_results = []\n",
    "for result in pools.imap_unordered(cool, \\\n",
    "                                     list(range(len(failed)))):\n",
    "    pool_results.append(result)\n",
    "\n",
    "\n",
    "pools.close()\n",
    "pools.join()\n",
    "\n",
    "#pools = Pool(cpu_count()-1)\n",
    "#pool_results1 = []\n",
    "#for result in pools.imap_unordered(read_results, \\\n",
    "#                                     list(range(len(failed)))):\n",
    "#    pool_results1.append(result)\n",
    "\n",
    "\n",
    "#pools.close()\n",
    "#pools.join()\n",
    "\n"
   ]
  },
  {
   "cell_type": "code",
   "execution_count": 98,
   "metadata": {},
   "outputs": [],
   "source": [
    "optimised_seq = []\n",
    "for i in list(range(len(failed))):\n",
    "              optimised_seq.append(read_results(i))"
   ]
  },
  {
   "cell_type": "code",
   "execution_count": 99,
   "metadata": {},
   "outputs": [
    {
     "data": {
      "text/html": [
       "<div>\n",
       "<style scoped>\n",
       "    .dataframe tbody tr th:only-of-type {\n",
       "        vertical-align: middle;\n",
       "    }\n",
       "\n",
       "    .dataframe tbody tr th {\n",
       "        vertical-align: top;\n",
       "    }\n",
       "\n",
       "    .dataframe thead th {\n",
       "        text-align: right;\n",
       "    }\n",
       "</style>\n",
       "<table border=\"1\" class=\"dataframe\">\n",
       "  <thead>\n",
       "    <tr style=\"text-align: right;\">\n",
       "      <th></th>\n",
       "      <th>Sequence</th>\n",
       "    </tr>\n",
       "  </thead>\n",
       "  <tbody>\n",
       "    <tr>\n",
       "      <th>0</th>\n",
       "      <td>AUGACGUUAAAAACCAUGACCCUGGCAUUCGCUGUGACUGGUCUGG...</td>\n",
       "    </tr>\n",
       "    <tr>\n",
       "      <th>1</th>\n",
       "      <td>AUGCUGUUCAUUAUUAAAUACUACGAACCUAAAAACCUGUAUGAAC...</td>\n",
       "    </tr>\n",
       "    <tr>\n",
       "      <th>2</th>\n",
       "      <td>AUGCCGCAGGAAGGCUUACGCUUCGUUGUUCAACAUCAUCUUGCCC...</td>\n",
       "    </tr>\n",
       "    <tr>\n",
       "      <th>3</th>\n",
       "      <td>AUGCCGGGUAAUUCUCCGCACUACGGUAGAUGGCCCCAACAUGAUU...</td>\n",
       "    </tr>\n",
       "    <tr>\n",
       "      <th>4</th>\n",
       "      <td>AUGCUGGGCCGCAGCGACGUCGGUCGCACGGAUACGUUAAUGGUGG...</td>\n",
       "    </tr>\n",
       "  </tbody>\n",
       "</table>\n",
       "</div>"
      ],
      "text/plain": [
       "                                            Sequence\n",
       "0  AUGACGUUAAAAACCAUGACCCUGGCAUUCGCUGUGACUGGUCUGG...\n",
       "1  AUGCUGUUCAUUAUUAAAUACUACGAACCUAAAAACCUGUAUGAAC...\n",
       "2  AUGCCGCAGGAAGGCUUACGCUUCGUUGUUCAACAUCAUCUUGCCC...\n",
       "3  AUGCCGGGUAAUUCUCCGCACUACGGUAGAUGGCCCCAACAUGAUU...\n",
       "4  AUGCUGGGCCGCAGCGACGUCGGUCGCACGGAUACGUUAAUGGUGG..."
      ]
     },
     "execution_count": 99,
     "metadata": {},
     "output_type": "execute_result"
    }
   ],
   "source": [
    "cool_optimised = pd.DataFrame({'Sequence':optimised_seq})\n",
    "cool_optimised.head()"
   ]
  },
  {
   "cell_type": "code",
   "execution_count": 100,
   "metadata": {},
   "outputs": [],
   "source": [
    "cool_optimised.to_csv('COOL_optimised_TT.csv', index=None)"
   ]
  },
  {
   "cell_type": "code",
   "execution_count": null,
   "metadata": {},
   "outputs": [],
   "source": []
  },
  {
   "cell_type": "code",
   "execution_count": 96,
   "metadata": {},
   "outputs": [],
   "source": []
  },
  {
   "cell_type": "code",
   "execution_count": null,
   "metadata": {},
   "outputs": [],
   "source": []
  },
  {
   "cell_type": "code",
   "execution_count": null,
   "metadata": {},
   "outputs": [],
   "source": []
  }
 ],
 "metadata": {
  "kernelspec": {
   "display_name": "Python 3",
   "language": "python",
   "name": "python3"
  },
  "language_info": {
   "codemirror_mode": {
    "name": "ipython",
    "version": 3
   },
   "file_extension": ".py",
   "mimetype": "text/x-python",
   "name": "python",
   "nbconvert_exporter": "python",
   "pygments_lexer": "ipython3",
   "version": "3.6.8"
  }
 },
 "nbformat": 4,
 "nbformat_minor": 2
}
