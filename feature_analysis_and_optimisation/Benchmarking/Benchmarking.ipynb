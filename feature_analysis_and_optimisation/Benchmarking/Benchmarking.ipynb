{
 "cells": [
  {
   "cell_type": "markdown",
   "metadata": {},
   "source": [
    "# Benchmarking tests for TIsigner\n",
    "##### We use the commandline version with parameters used for webversion. "
   ]
  },
  {
   "cell_type": "code",
   "execution_count": 45,
   "metadata": {},
   "outputs": [],
   "source": [
    "import timeit\n",
    "from multiprocessing import Pool\n",
    "import numpy as np\n",
    "import pandas as pd\n",
    "import matplotlib.pyplot as plt\n",
    "import seaborn as sns\n",
    "sns.set_style(\"whitegrid\")\n",
    "sns.set_context(\"paper\", font_scale=1.5)\n",
    "from libs import functions\n",
    "from libs import data"
   ]
  },
  {
   "cell_type": "markdown",
   "metadata": {},
   "source": [
    "#### Generate some random sequences with varying length"
   ]
  },
  {
   "cell_type": "code",
   "execution_count": 2,
   "metadata": {},
   "outputs": [],
   "source": [
    "\n",
    "def rand_seq(length, rnd_state):\n",
    "    seq = 'ATG' + ''.join(rnd_state.choice(list(data.CODON_TO_AA.keys()), length-2)) + 'TAG'\n",
    "    return seq\n",
    "\n",
    "rnd = np.random.RandomState(12345)\n",
    "seqs = pd.DataFrame({'Sequence':[rand_seq(i, rnd) for i in range(30, 1500, 20)]})\n",
    "seqs['Length'] = seqs['Sequence'].apply(len)"
   ]
  },
  {
   "cell_type": "code",
   "execution_count": null,
   "metadata": {},
   "outputs": [],
   "source": []
  },
  {
   "cell_type": "code",
   "execution_count": 7,
   "metadata": {},
   "outputs": [],
   "source": [
    "def benchmarking(s):\n",
    "    '''\n",
    "    We take params from webversion\n",
    "    '''\n",
    "    start = timeit.default_timer()\n",
    "    d = 0 #seed\n",
    "    r = 5 #number of parallel process (which = no. of solutions)\n",
    "    t = 'ecoli' #host\n",
    "    c = 10 #9 codons after ATG\n",
    "    u = data.pET21_UTR\n",
    "    n = 50 #niter\n",
    "    threshold = None\n",
    "    f = None #RMS\n",
    "    plfold_args = data.RNAPLFOLD_ECOLI\n",
    "    m = False\n",
    "\n",
    "    \n",
    "    seeds = list(range(d, d + r))\n",
    "    rand_states = [np.random.RandomState(i) for i in seeds]\n",
    "    new_opt = functions.Optimiser(seq=str(s), host=t, ncodons=c, utr=u, \\\n",
    "                                   niter=n, threshold=threshold, \\\n",
    "                                   plfold_args=plfold_args, rms_sites=f)\n",
    "\n",
    "\n",
    "    #run optimiser (multiprocess)\n",
    "    pools = Pool(r)\n",
    "    results = []\n",
    "    #functions.progress(0, r)\n",
    "    for result in pools.imap(new_opt.simulated_anneal,\\\n",
    "                                rand_states):\n",
    "        results.append(result)\n",
    "        #functions.progress(len(results), r)\n",
    "    pools.close()\n",
    "    pools.join()\n",
    "\n",
    "\n",
    "    #format results in nice csv\n",
    "\n",
    "    result_df = functions.sort_results(functions.sa_results_parse(results, \\\n",
    "                                        threshold=threshold, termcheck=m), \\\n",
    "                                       direction=new_opt.direction, termcheck=m)\n",
    "    cols = ['Type', 'Sequenceh', 'Accessibility', 'pExpressed', \\\n",
    "            'Hits', 'E_val', 'Mismatches']\n",
    "    \n",
    "    if 'Hits' not in result_df.columns:\n",
    "        cols.remove('Hits')\n",
    "        cols.remove('E_val')\n",
    "    if 'pExpressed' not in result_df.columns:\n",
    "        cols.remove('pExpressed')\n",
    "    tmp_df = result_df[cols].copy()\n",
    "    \n",
    "    columns_rename = {'pExpressed':'Score',\\\n",
    "                   'Accessibility':'Opening Energy', \\\n",
    "                   'Sequenceh':'Sequence', 'Hits':'Term. Hits'}\n",
    "    tmp_df.rename(columns=columns_rename, inplace='True')\n",
    "    export_df = tmp_df.reindex(np.roll(tmp_df.index,\\\n",
    "                                       shift=1)).reset_index(drop=True)\n",
    "    selected_seq = export_df.loc[export_df['Type'] == 'Selected']['Sequence'].values[0]\n",
    "    stop = timeit.default_timer()\n",
    "    execution_time = stop - start #float(format(stop - start, '.5f'))\n",
    "    return selected_seq, execution_time"
   ]
  },
  {
   "cell_type": "markdown",
   "metadata": {},
   "source": [
    "#### Test"
   ]
  },
  {
   "cell_type": "code",
   "execution_count": 31,
   "metadata": {},
   "outputs": [
    {
     "name": "stdout",
     "output_type": "stream",
     "text": [
      "3.75 s ± 36.7 ms per loop (mean ± std. dev. of 7 runs, 1 loop each)\n"
     ]
    }
   ],
   "source": [
    "%%timeit \n",
    "benchmarking(seqs['Sequence'][0])"
   ]
  },
  {
   "cell_type": "code",
   "execution_count": 32,
   "metadata": {},
   "outputs": [],
   "source": [
    "seqs['benchmarking_1'] = seqs['Sequence'].apply(benchmarking)"
   ]
  },
  {
   "cell_type": "code",
   "execution_count": null,
   "metadata": {},
   "outputs": [],
   "source": []
  },
  {
   "cell_type": "code",
   "execution_count": 34,
   "metadata": {},
   "outputs": [],
   "source": [
    "seqs['optimised_seq'] = seqs['benchmarking_1'].apply(lambda x:x[0])\n",
    "seqs['time'] = seqs['benchmarking_1'].apply(lambda x:x[1])"
   ]
  },
  {
   "cell_type": "code",
   "execution_count": 47,
   "metadata": {},
   "outputs": [
    {
     "data": {
      "image/png": "[encoded data removed]",
      "text/plain": [
       "<Figure size 288x288 with 1 Axes>"
      ]
     },
     "metadata": {},
     "output_type": "display_data"
    }
   ],
   "source": [
    "fig = plt.figure(figsize=(4, 4))\n",
    "ax = sns.lineplot(x=seqs['Length'], y = seqs['time'], err_style=\"bars\", ci=68)\n",
    "ax.set(xlabel='Length of sequence (nt)', ylabel='Optimisation time (sec)')\n",
    "plt.savefig(\"figs/benchmarking_1.pdf\", bbox_inches = 'tight', pad_inches = 0)\n",
    "plt.show()"
   ]
  },
  {
   "cell_type": "code",
   "execution_count": 38,
   "metadata": {},
   "outputs": [],
   "source": []
  },
  {
   "cell_type": "code",
   "execution_count": null,
   "metadata": {},
   "outputs": [],
   "source": [
    "seqs.to_csv('results/benchmarking_1.csv', index=None)"
   ]
  },
  {
   "cell_type": "code",
   "execution_count": null,
   "metadata": {},
   "outputs": [],
   "source": []
  },
  {
   "cell_type": "code",
   "execution_count": null,
   "metadata": {},
   "outputs": [],
   "source": []
  }
 ],
 "metadata": {
  "kernelspec": {
   "display_name": "Python 3",
   "language": "python",
   "name": "python3"
  },
  "language_info": {
   "codemirror_mode": {
    "name": "ipython",
    "version": 3
   },
   "file_extension": ".py",
   "mimetype": "text/x-python",
   "name": "python",
   "nbconvert_exporter": "python",
   "pygments_lexer": "ipython3",
   "version": "3.6.8"
  }
 },
 "nbformat": 4,
 "nbformat_minor": 2
}
